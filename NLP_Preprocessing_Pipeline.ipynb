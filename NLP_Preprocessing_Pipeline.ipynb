{
  "nbformat": 4,
  "nbformat_minor": 0,
  "metadata": {
    "colab": {
      "provenance": []
    },
    "kernelspec": {
      "name": "python3",
      "display_name": "Python 3"
    },
    "language_info": {
      "name": "python"
    }
  },
  "cells": [
    {
      "cell_type": "code",
      "source": [
        "%pip install regex\n",
        "%pip install nltk\n",
        "%pip install unicodedata-reader\n",
        "%pip install contractions\n",
        "%pip install inflect\n",
        "%pip install emoji\n",
        "%pip install spacy"
      ],
      "metadata": {
        "colab": {
          "base_uri": "https://localhost:8080/"
        },
        "id": "bbAGJmLENLgH",
        "outputId": "c8660685-8469-4fff-bf93-6683e99c1aa9"
      },
      "execution_count": null,
      "outputs": [
        {
          "output_type": "stream",
          "name": "stdout",
          "text": [
            "Requirement already satisfied: regex in /usr/local/lib/python3.11/dist-packages (2024.11.6)\n",
            "Requirement already satisfied: nltk in /usr/local/lib/python3.11/dist-packages (3.9.1)\n",
            "Requirement already satisfied: click in /usr/local/lib/python3.11/dist-packages (from nltk) (8.2.0)\n",
            "Requirement already satisfied: joblib in /usr/local/lib/python3.11/dist-packages (from nltk) (1.5.0)\n",
            "Requirement already satisfied: regex>=2021.8.3 in /usr/local/lib/python3.11/dist-packages (from nltk) (2024.11.6)\n",
            "Requirement already satisfied: tqdm in /usr/local/lib/python3.11/dist-packages (from nltk) (4.67.1)\n",
            "Collecting unicodedata-reader\n",
            "  Downloading unicodedata_reader-1.3.6-py3-none-any.whl.metadata (3.4 kB)\n",
            "Requirement already satisfied: platformdirs>=4.3.8 in /usr/local/lib/python3.11/dist-packages (from unicodedata-reader) (4.3.8)\n",
            "Downloading unicodedata_reader-1.3.6-py3-none-any.whl (20 kB)\n",
            "Installing collected packages: unicodedata-reader\n",
            "Successfully installed unicodedata-reader-1.3.6\n",
            "Requirement already satisfied: contractions in /usr/local/lib/python3.11/dist-packages (0.1.73)\n",
            "Requirement already satisfied: textsearch>=0.0.21 in /usr/local/lib/python3.11/dist-packages (from contractions) (0.0.24)\n",
            "Requirement already satisfied: anyascii in /usr/local/lib/python3.11/dist-packages (from textsearch>=0.0.21->contractions) (0.3.2)\n",
            "Requirement already satisfied: pyahocorasick in /usr/local/lib/python3.11/dist-packages (from textsearch>=0.0.21->contractions) (2.1.0)\n",
            "Requirement already satisfied: inflect in /usr/local/lib/python3.11/dist-packages (7.5.0)\n",
            "Requirement already satisfied: more_itertools>=8.5.0 in /usr/local/lib/python3.11/dist-packages (from inflect) (10.7.0)\n",
            "Requirement already satisfied: typeguard>=4.0.1 in /usr/local/lib/python3.11/dist-packages (from inflect) (4.4.2)\n",
            "Requirement already satisfied: typing_extensions>=4.10.0 in /usr/local/lib/python3.11/dist-packages (from typeguard>=4.0.1->inflect) (4.13.2)\n",
            "Requirement already satisfied: emoji in /usr/local/lib/python3.11/dist-packages (2.14.1)\n",
            "Requirement already satisfied: spacy in /usr/local/lib/python3.11/dist-packages (3.8.5)\n",
            "Requirement already satisfied: spacy-legacy<3.1.0,>=3.0.11 in /usr/local/lib/python3.11/dist-packages (from spacy) (3.0.12)\n",
            "Requirement already satisfied: spacy-loggers<2.0.0,>=1.0.0 in /usr/local/lib/python3.11/dist-packages (from spacy) (1.0.5)\n",
            "Requirement already satisfied: murmurhash<1.1.0,>=0.28.0 in /usr/local/lib/python3.11/dist-packages (from spacy) (1.0.12)\n",
            "Requirement already satisfied: cymem<2.1.0,>=2.0.2 in /usr/local/lib/python3.11/dist-packages (from spacy) (2.0.11)\n",
            "Requirement already satisfied: preshed<3.1.0,>=3.0.2 in /usr/local/lib/python3.11/dist-packages (from spacy) (3.0.9)\n",
            "Requirement already satisfied: thinc<8.4.0,>=8.3.4 in /usr/local/lib/python3.11/dist-packages (from spacy) (8.3.6)\n",
            "Requirement already satisfied: wasabi<1.2.0,>=0.9.1 in /usr/local/lib/python3.11/dist-packages (from spacy) (1.1.3)\n",
            "Requirement already satisfied: srsly<3.0.0,>=2.4.3 in /usr/local/lib/python3.11/dist-packages (from spacy) (2.5.1)\n",
            "Requirement already satisfied: catalogue<2.1.0,>=2.0.6 in /usr/local/lib/python3.11/dist-packages (from spacy) (2.0.10)\n",
            "Requirement already satisfied: weasel<0.5.0,>=0.1.0 in /usr/local/lib/python3.11/dist-packages (from spacy) (0.4.1)\n",
            "Requirement already satisfied: typer<1.0.0,>=0.3.0 in /usr/local/lib/python3.11/dist-packages (from spacy) (0.15.3)\n",
            "Requirement already satisfied: tqdm<5.0.0,>=4.38.0 in /usr/local/lib/python3.11/dist-packages (from spacy) (4.67.1)\n",
            "Requirement already satisfied: numpy>=1.19.0 in /usr/local/lib/python3.11/dist-packages (from spacy) (2.0.2)\n",
            "Requirement already satisfied: requests<3.0.0,>=2.13.0 in /usr/local/lib/python3.11/dist-packages (from spacy) (2.32.3)\n",
            "Requirement already satisfied: pydantic!=1.8,!=1.8.1,<3.0.0,>=1.7.4 in /usr/local/lib/python3.11/dist-packages (from spacy) (2.11.4)\n",
            "Requirement already satisfied: jinja2 in /usr/local/lib/python3.11/dist-packages (from spacy) (3.1.6)\n",
            "Requirement already satisfied: setuptools in /usr/local/lib/python3.11/dist-packages (from spacy) (75.2.0)\n",
            "Requirement already satisfied: packaging>=20.0 in /usr/local/lib/python3.11/dist-packages (from spacy) (24.2)\n",
            "Requirement already satisfied: langcodes<4.0.0,>=3.2.0 in /usr/local/lib/python3.11/dist-packages (from spacy) (3.5.0)\n",
            "Requirement already satisfied: language-data>=1.2 in /usr/local/lib/python3.11/dist-packages (from langcodes<4.0.0,>=3.2.0->spacy) (1.3.0)\n",
            "Requirement already satisfied: annotated-types>=0.6.0 in /usr/local/lib/python3.11/dist-packages (from pydantic!=1.8,!=1.8.1,<3.0.0,>=1.7.4->spacy) (0.7.0)\n",
            "Requirement already satisfied: pydantic-core==2.33.2 in /usr/local/lib/python3.11/dist-packages (from pydantic!=1.8,!=1.8.1,<3.0.0,>=1.7.4->spacy) (2.33.2)\n",
            "Requirement already satisfied: typing-extensions>=4.12.2 in /usr/local/lib/python3.11/dist-packages (from pydantic!=1.8,!=1.8.1,<3.0.0,>=1.7.4->spacy) (4.13.2)\n",
            "Requirement already satisfied: typing-inspection>=0.4.0 in /usr/local/lib/python3.11/dist-packages (from pydantic!=1.8,!=1.8.1,<3.0.0,>=1.7.4->spacy) (0.4.0)\n",
            "Requirement already satisfied: charset-normalizer<4,>=2 in /usr/local/lib/python3.11/dist-packages (from requests<3.0.0,>=2.13.0->spacy) (3.4.2)\n",
            "Requirement already satisfied: idna<4,>=2.5 in /usr/local/lib/python3.11/dist-packages (from requests<3.0.0,>=2.13.0->spacy) (3.10)\n",
            "Requirement already satisfied: urllib3<3,>=1.21.1 in /usr/local/lib/python3.11/dist-packages (from requests<3.0.0,>=2.13.0->spacy) (2.4.0)\n",
            "Requirement already satisfied: certifi>=2017.4.17 in /usr/local/lib/python3.11/dist-packages (from requests<3.0.0,>=2.13.0->spacy) (2025.4.26)\n",
            "Requirement already satisfied: blis<1.4.0,>=1.3.0 in /usr/local/lib/python3.11/dist-packages (from thinc<8.4.0,>=8.3.4->spacy) (1.3.0)\n",
            "Requirement already satisfied: confection<1.0.0,>=0.0.1 in /usr/local/lib/python3.11/dist-packages (from thinc<8.4.0,>=8.3.4->spacy) (0.1.5)\n",
            "Requirement already satisfied: click>=8.0.0 in /usr/local/lib/python3.11/dist-packages (from typer<1.0.0,>=0.3.0->spacy) (8.2.0)\n",
            "Requirement already satisfied: shellingham>=1.3.0 in /usr/local/lib/python3.11/dist-packages (from typer<1.0.0,>=0.3.0->spacy) (1.5.4)\n",
            "Requirement already satisfied: rich>=10.11.0 in /usr/local/lib/python3.11/dist-packages (from typer<1.0.0,>=0.3.0->spacy) (13.9.4)\n",
            "Requirement already satisfied: cloudpathlib<1.0.0,>=0.7.0 in /usr/local/lib/python3.11/dist-packages (from weasel<0.5.0,>=0.1.0->spacy) (0.21.0)\n",
            "Requirement already satisfied: smart-open<8.0.0,>=5.2.1 in /usr/local/lib/python3.11/dist-packages (from weasel<0.5.0,>=0.1.0->spacy) (7.1.0)\n",
            "Requirement already satisfied: MarkupSafe>=2.0 in /usr/local/lib/python3.11/dist-packages (from jinja2->spacy) (3.0.2)\n",
            "Requirement already satisfied: marisa-trie>=1.1.0 in /usr/local/lib/python3.11/dist-packages (from language-data>=1.2->langcodes<4.0.0,>=3.2.0->spacy) (1.2.1)\n",
            "Requirement already satisfied: markdown-it-py>=2.2.0 in /usr/local/lib/python3.11/dist-packages (from rich>=10.11.0->typer<1.0.0,>=0.3.0->spacy) (3.0.0)\n",
            "Requirement already satisfied: pygments<3.0.0,>=2.13.0 in /usr/local/lib/python3.11/dist-packages (from rich>=10.11.0->typer<1.0.0,>=0.3.0->spacy) (2.19.1)\n",
            "Requirement already satisfied: wrapt in /usr/local/lib/python3.11/dist-packages (from smart-open<8.0.0,>=5.2.1->weasel<0.5.0,>=0.1.0->spacy) (1.17.2)\n",
            "Requirement already satisfied: mdurl~=0.1 in /usr/local/lib/python3.11/dist-packages (from markdown-it-py>=2.2.0->rich>=10.11.0->typer<1.0.0,>=0.3.0->spacy) (0.1.2)\n"
          ]
        }
      ]
    },
    {
      "cell_type": "code",
      "execution_count": null,
      "metadata": {
        "id": "0cTrsSinM7yS"
      },
      "outputs": [],
      "source": [
        "import re\n",
        "import nltk\n",
        "import emoji\n",
        "import unicodedata\n",
        "import contractions\n",
        "import inflect\n",
        "import spacy\n",
        "import numpy as np\n",
        "from nltk.corpus import stopwords\n",
        "from nltk.tokenize import word_tokenize, sent_tokenize # Import sent_tokenize as well\n",
        "from sklearn.cluster import KMeans\n",
        "from sklearn.feature_extraction.text import CountVectorizer"
      ]
    },
    {
      "cell_type": "code",
      "source": [
        "nltk.download('stopwords')\n",
        "nltk.download('averaged_perceptron_tagger')\n",
        "nltk.download('punkt')\n",
        "nltk.download('punkt_tab')"
      ],
      "metadata": {
        "colab": {
          "base_uri": "https://localhost:8080/"
        },
        "id": "hT5c_-rENExl",
        "outputId": "83dc1419-0b2d-4b68-e5d2-9d3fe1525eb8"
      },
      "execution_count": null,
      "outputs": [
        {
          "output_type": "stream",
          "name": "stderr",
          "text": [
            "[nltk_data] Downloading package stopwords to /root/nltk_data...\n",
            "[nltk_data]   Package stopwords is already up-to-date!\n",
            "[nltk_data] Downloading package averaged_perceptron_tagger to\n",
            "[nltk_data]     /root/nltk_data...\n",
            "[nltk_data]   Package averaged_perceptron_tagger is already up-to-\n",
            "[nltk_data]       date!\n",
            "[nltk_data] Downloading package punkt to /root/nltk_data...\n",
            "[nltk_data]   Package punkt is already up-to-date!\n",
            "[nltk_data] Downloading package punkt_tab to /root/nltk_data...\n",
            "[nltk_data]   Unzipping tokenizers/punkt_tab.zip.\n"
          ]
        },
        {
          "output_type": "execute_result",
          "data": {
            "text/plain": [
              "True"
            ]
          },
          "metadata": {},
          "execution_count": 41
        }
      ]
    },
    {
      "cell_type": "code",
      "source": [
        "!python -m spacy download en_core_web_sm"
      ],
      "metadata": {
        "colab": {
          "base_uri": "https://localhost:8080/"
        },
        "id": "7HGtf64jNjRL",
        "outputId": "2d27f0f3-d4de-4ab1-90d2-9f62cdef7781"
      },
      "execution_count": null,
      "outputs": [
        {
          "output_type": "stream",
          "name": "stdout",
          "text": [
            "Collecting en-core-web-sm==3.8.0\n",
            "  Downloading https://github.com/explosion/spacy-models/releases/download/en_core_web_sm-3.8.0/en_core_web_sm-3.8.0-py3-none-any.whl (12.8 MB)\n",
            "\u001b[2K     \u001b[90m━━━━━━━━━━━━━━━━━━━━━━━━━━━━━━━━━━━━━━━━\u001b[0m \u001b[32m12.8/12.8 MB\u001b[0m \u001b[31m63.6 MB/s\u001b[0m eta \u001b[36m0:00:00\u001b[0m\n",
            "\u001b[?25h\u001b[38;5;2m✔ Download and installation successful\u001b[0m\n",
            "You can now load the package via spacy.load('en_core_web_sm')\n",
            "\u001b[38;5;3m⚠ Restart to reload dependencies\u001b[0m\n",
            "If you are in a Jupyter or Colab notebook, you may need to restart Python in\n",
            "order to load all the package's dependencies. You can do this by selecting the\n",
            "'Restart kernel' or 'Restart runtime' option.\n"
          ]
        }
      ]
    },
    {
      "cell_type": "code",
      "source": [
        "def clean_text(input_text):\n",
        "\n",
        "    # HTML Tags: The first step is to remove all HTML tags inside the input text\n",
        "    clean_text = re.sub('<[^<]+?>', '', input_text)\n",
        "\n",
        "    # URLs and Links: Next, we remove every URL and link from the text\n",
        "    clean_text = re.sub(r'http\\S+', '', clean_text)\n",
        "\n",
        "    # Emojis and Emoticons: We use the self-defined function below to convert emojis to text\n",
        "    # This is important for understanding the sentiment of the text being presented\n",
        "    clean_text = convert_emojis_to_words(clean_text)\n",
        "\n",
        "    # Lowercase all the input data\n",
        "    clean_text = clean_text.lower()\n",
        "\n",
        "    # Remove all White Spaces\n",
        "    # Since all the data is now words, let's clean any white spaces\n",
        "    clean_text = re.sub('\\s+', ' ', clean_text)\n",
        "\n",
        "    # Accented Characters to ASCII Characters: We use the unicode normalize function to convert all accented characters to ASCII characters\n",
        "    clean_text = unicodedata.normalize('NFKD', clean_text).encode('ascii', 'ignore').decode('utf-8', 'ignore')\n",
        "\n",
        "    # Expand contractions: Text often contains words like \"don't\" or \"won't\", let us expand those\n",
        "    clean_text = contractions.fix(clean_text)\n",
        "\n",
        "    # Remove special characters: Removing anything that is not \"words\"\n",
        "    clean_text = re.sub('[^a-zA-Z0-9\\s\\.]', '', clean_text)\n",
        "\n",
        "    # Convert number words to numeric form\n",
        "    temp = inflect.engine()\n",
        "    words = []\n",
        "    for word in clean_text.split():\n",
        "        if word.isdigit():\n",
        "            words.append(temp.number_to_words(word))\n",
        "        else:\n",
        "            words.append(word)\n",
        "    clean_text = ' '.join(words)\n",
        "\n",
        "    # Remove stopwords\n",
        "    stop_words = set(stopwords.words('english'))\n",
        "    tokens = word_tokenize(clean_text)\n",
        "    tokens = [token for token in tokens if token not in stop_words]\n",
        "    clean_text = ' '.join(tokens)\n",
        "\n",
        "    # Add full-stop to end of sentences\n",
        "    clean_text = re.sub('([a-z])\\.([A-Z])', r'\\1. \\2', clean_text)\n",
        "\n",
        "    # Remove punctuations\n",
        "    clean_text = re.sub(r'[^\\w\\s.]', '', clean_text)\n",
        "\n",
        "    # Return the preprocessed, clean text\n",
        "    return clean_text"
      ],
      "metadata": {
        "id": "QpkyHZ7iNnJK"
      },
      "execution_count": null,
      "outputs": []
    },
    {
      "cell_type": "code",
      "source": [
        "def convert_emojis_to_words(text):\n",
        "\n",
        "    # Convert emojis to words\n",
        "    text = emoji.demojize(text, delimiters=(\" \", \" \"))\n",
        "\n",
        "    # Remove the : from the words and replace _ with space\n",
        "    text = text.replace(\":\", \"\").replace(\"_\", \" \")\n",
        "\n",
        "    return text"
      ],
      "metadata": {
        "id": "Y7NCZTWtNrcB"
      },
      "execution_count": null,
      "outputs": []
    },
    {
      "cell_type": "code",
      "source": [
        "def remove_noise_boilerplate(input_text, min_cluster_size=2, num_clusters=5, max_noise_ratio=0.3):\n",
        "\n",
        "    # Sentence split: To identify boilerplate/noise we will first need to separate sentences to find similarity\n",
        "    sentences = re.split('\\. |\\? |\\! |\\n', input_text)\n",
        "\n",
        "    # Convert sentences to a matrix of word embeddings\n",
        "    embeddings_matrix = text_vectorize(sentences)\n",
        "\n",
        "    # KMeans Clustering: Cluster the sentences to bring similar embeddings together\n",
        "    kmeans_model = KMeans(n_clusters=num_clusters)\n",
        "    kmeans_model.fit(embeddings_matrix)\n",
        "    model_labels = kmeans_model.labels_\n",
        "    model_centroids = kmeans_model.cluster_centers_\n",
        "\n",
        "    # Individual cluster size\n",
        "    cluster_sizes = np.bincount(model_labels)\n",
        "\n",
        "    # Identify clusters with noise and boilerplate language\n",
        "    is_noise = np.zeros(num_clusters, dtype=bool)\n",
        "    for i, centroid in enumerate(model_centroids):\n",
        "        if cluster_sizes[i] < min_cluster_size:\n",
        "            # We should ignore clusters with fewer sentences than min_cluster_size threshold\n",
        "            continue\n",
        "        distances = np.linalg.norm(embeddings_matrix[model_labels == i] - centroid, axis=1)\n",
        "        median_distance = np.median(distances)\n",
        "        if np.count_nonzero(distances > median_distance) / cluster_sizes[i] > max_noise_ratio:\n",
        "            is_noise[i] = True\n",
        "\n",
        "    # Remove: Sentences that are in the noise bucket, we remove them (boilerplate)\n",
        "    filtered_sentences = []\n",
        "    for i, sentence in enumerate(sentences):\n",
        "        if not is_noise[model_labels[i]]:\n",
        "            filtered_sentences.append(sentence)\n",
        "\n",
        "    # Bring the sentence together\n",
        "    filtered_text = ' '.join(filtered_sentences)\n",
        "\n",
        "    return filtered_text"
      ],
      "metadata": {
        "id": "0Z8Vs5wlNuXV"
      },
      "execution_count": null,
      "outputs": []
    },
    {
      "cell_type": "code",
      "source": [
        "def text_vectorize(input_text):\n",
        "\n",
        "    # Instantiate the CountVectorizer object\n",
        "    vectorizer = CountVectorizer()\n",
        "\n",
        "    # Use vectorizer.fit to transform the text into a matrix of word counts\n",
        "    counts_matrix = vectorizer.fit_transform(input_text)\n",
        "\n",
        "    # Convert to a dense matrix\n",
        "    dense_matrix = counts_matrix.todense()\n",
        "\n",
        "    # Return the dense matrix as a numpy array\n",
        "    return np.array(dense_matrix)"
      ],
      "metadata": {
        "id": "zDtnxQpsN1KO"
      },
      "execution_count": null,
      "outputs": []
    },
    {
      "cell_type": "code",
      "source": [
        "nlp = spacy.load(\"en_core_web_sm\")"
      ],
      "metadata": {
        "id": "IrtHVDvWOAXa"
      },
      "execution_count": null,
      "outputs": []
    },
    {
      "cell_type": "code",
      "source": [
        "def pos_tag(input_text):\n",
        "\n",
        "    doc = nlp(input_text)\n",
        "    tagged_output = []\n",
        "\n",
        "    # Iterate over each token in the document\n",
        "    for token in doc:\n",
        "        # Append the token text and its POS tag to the tagged_output list\n",
        "        tagged_output.append(token.text + '_' + token.pos_)\n",
        "\n",
        "    # Join the tagged_output list into a single string\n",
        "    tagged_output_str = ' '.join(tagged_output)\n",
        "\n",
        "    return tagged_output_str"
      ],
      "metadata": {
        "id": "DdhGZAD-OB55"
      },
      "execution_count": null,
      "outputs": []
    },
    {
      "cell_type": "code",
      "source": [
        "def lemmatize_and_vectorize(tagged_text):\n",
        "\n",
        "    # Convert the tagged text to a string\n",
        "    text = \" \".join([word.split(\"_\")[0] for word in tagged_text.split()])\n",
        "\n",
        "    # Apply the Spacy pipeline to the text\n",
        "    doc = nlp(text)\n",
        "\n",
        "    vector_list = []\n",
        "\n",
        "    # Iterate over each token in the Spacy document\n",
        "    for token in doc:\n",
        "        lemma = token.lemma_\n",
        "\n",
        "        # Get the part-of-speech tag for the token\n",
        "        pos = token.pos_\n",
        "\n",
        "        if pos == \"VERB\":\n",
        "            vec = token.vector\n",
        "        else:\n",
        "            vec = token.vector + nlp(pos).vector\n",
        "\n",
        "        vector_list.append(vec)\n",
        "\n",
        "    vector_array = np.array(vector_list)\n",
        "\n",
        "    return vector_array\n"
      ],
      "metadata": {
        "id": "eeZOLw2XOHux"
      },
      "execution_count": null,
      "outputs": []
    },
    {
      "cell_type": "code",
      "source": [
        "input_text = \"\"\"Jesse McFadden, the convicted rapist who is believed to have killed his wife and five teenagers on his rural Oklahoma property before dying by suicide, was already in state prison in 2017 when he was charged with new sex crimes stemming from his alleged use of a contraband cellphone. But he was released in 2020, and his case languished in the court system for 2½ years.\n",
        "On Monday, on the same day he was scheduled to appear in a Muskogee County court for the start of a jury trial, investigators looking for two missing teenagers who were last known to be with him executed a search warrant on his property. A local police chief said they made a grim discovery: Each of the seven bodies were shot in the head with a 9 mm pistol.\n",
        "The sudden tragedy and the chain of events that preceded it has victims' families and state lawmakers asking why McFadden was released if he was facing new sex crime charges allegedly committed while behind bars while serving out a rape sentence, and if the deaths could have been prevented.\n",
        "\"There needs to be repercussions and somebody needs to be held accountable,\" Justin Webster, the father of Ivy Webster, 14, who had been reported missing and was among the victims, told The Associated Press. \"They let a monster out. They did this.\"\n",
        "State Rep. Scott Fetgatter, a Republican whose district includes the area south of Tulsa where the killings occurred, said he hopes to introduce a bill this legislative session that would halt the release of inmates before they complete their sentences if they are accused of committing certain sex crimes, such as rape and child sex abuse, while incarcerated.\n",
        "\"At the end of the day, those five children that were murdered in my district should be alive today and, instead, they're not,\" he said Thursday. \"That's my priority: How do I keep this from ever happening again?\"\n",
        "McFadden was convicted in 2003 of first-degree rape and grand larceny and sentenced to 20 years in prison. In court documents, McFadden, then 20, told officials that he was \"strung out on dope, vodka\" and had \"lost control of myself and raped a female friend.\" He also said he stole $80,000 from his grandfather's safe and \"blew it on drugs and unnecessary things.\"\n",
        "The female he raped was 17, and he had tied her hands and feet to a bedpost, cut her shirt off with a knife and threatened to use the knife on her \"if she did not shut up,\" prosecutors said in a court filing.\n",
        "From 2004 to 2010, McFadden was cited seven times for various infractions while in prison, including for having tobacco and engaging in sexual conduct with another inmate, according to his misconduct form.\n",
        "Then, he was cited once in 2013 and again in 2016 for possessing a cellphone. In December 2016, an audit of the electronic device he allegedly was using revealed \"sexually-themed conversations, videos and pictures\" with a girl about 16 years old.\n",
        "An investigation by the state Department of Corrections led prosecutors in Muskogee County to bring charges of child pornography and soliciting sexual conduct/communication with a minor. A preliminary hearing and a trial were rescheduled multiple times.\n",
        "In the meantime, McFadden was on course to be released under a state law that allows those who commit violent felonies to be set free after serving at least 85% of their sentence. Despite his history of misconduct, he was considered a \"level 4\" inmate, reserved for those who meet their program requirements and maintain good personal hygiene and a satisfactory relationship with staff and others.\n",
        "Based on how much prison time he had served, as well as time already served in county jail, McFadden was eligible for release Oct. 30, 2020. After his release, he was arrested the following month on the new charges and jailed for five days before he was let go on a $25,000 bond, records show.\n",
        "Kay Thompson, a Department of Corrections spokeswoman, said that even though he was charged while already in prison, he had not yet been convicted, and so he fit the criteria to be released. According to his prison record, he earned his high school equivalency diploma and completed a Bible correspondence course called \"A Country Called Heaven\" and another 13-week course titled \"Cage Your Rage.\"\n",
        "Muskogee County District Attorney Larry Edwards did not immediately respond to a request for comment, but told the CBS affiliate KOTV-DT in Tulsa that McFadden's case was beset by unexpected delays over the years, including one prosecutor leaving for a new job, another breaking her foot before a scheduled trial date and the Covid pandemic causing a widespread logjam in the legal system.\n",
        "When McFadden was released, he had technically completed his sentence and was not on probation. But he was still required to register as a sex offender for life and was checking in with the local sheriff's office every 90 days, as required, according to the Department of Corrections. In addition, registered sex offenders can live with children as long as they don’t commit crimes against them.\n",
        "McFadden was living with his wife, Holly, whom he had married last year, Okmulgee County records show. Holly McFadden's three children — Rylee Allen, 17, Michael Mayo, 15, and Tiffany Guess, 13 — were among the victims.\n",
        "Ivy and another victim, Brittany Brewer, 15, were friends with Tiffany and routinely slept over at the rental property where the McFaddens lived just outside the small town of Henryetta, the teens' families said.\n",
        "Authorities said Wednesday that all the victims, as well as McFadden, were shot in the head. A motive was not immediately known.\n",
        "Brittany's father, Nathan Brewer, previously said that McFadden seemed like a \"nice, normal person,\" but now believes he should have never been released from prison after he was charged in 2017. Officials should be held liable for the victims' deaths, he added.\n",
        "Holly McFadden's mother has also said that her daughter didn't know \"the truth about Jesse McFadden\" and that he \"fooled her with his charm.\"\n",
        "The state had planned to introduce evidence of McFadden's \"prior bad acts\" at his trial that was set to begin this week. In court documents, the state accused him of sending handwritten letters and text messages to the 16-year-old \"in which he not only discussed their relationship but also discussed things of a sexual nature and was manipulative and controlling of the victim.\"\n",
        "According to the state, the defense counsel planned to argue that McFadden was in contact not with the teen but with her 21-year-old friend, instead, and that another inmate owned the phone he was allegedly using.\n",
        "State Rep. Justin Humphrey, a Republican who chairs the Criminal Justice and Corrections Committee, said he supports a change in the law that would prevent someone already in prison from being released if they are charged with a sex crime while behind bars.\n",
        "\"Who dropped the ball?\" he asked. \"Why did the trial take so long and why did they set the bond at what some might consider such a low amount for someone who's been convicted of such a violent crime?\"\n",
        "Dan Medlock, a criminal defense attorney and former prosecutor in Muskogee County, said the bond amount McFadden received is standard in the area.\n",
        "But Humphrey said a larger look at the state's justice system is warranted when a person accused of committing a sex crime while already in prison can be freed.\n",
        "\"I don't think we need a knee-jerk reaction, but when six people are killed, including children, that has to be something that makes us go to the drawing board and do this thing right and get a system that holds people accountable,\" he said.\n",
        "\"\"\""
      ],
      "metadata": {
        "id": "u89nlpjKQkRE"
      },
      "execution_count": null,
      "outputs": []
    },
    {
      "cell_type": "code",
      "source": [
        "clean_text = clean_text(input_text)\n",
        "print(clean_text)"
      ],
      "metadata": {
        "colab": {
          "base_uri": "https://localhost:8080/"
        },
        "id": "j3-nQcJZQsfn",
        "outputId": "04aa3aad-28a8-41ea-ea67-48621249e64f"
      },
      "execution_count": null,
      "outputs": [
        {
          "output_type": "stream",
          "name": "stdout",
          "text": [
            "jesse mcfadden convicted rapist believed killed wife five teenagers rural oklahoma property dying suicide already state prison two thousand seventeen charged new sex crimes stemming alleged use contraband cellphone . released two thousand twenty case languished court system two hundred twelve years . monday day scheduled appear muskogee county court start jury trial investigators looking two missing teenagers last known executed search warrant property . local police chief said made grim discovery seven bodies shot head nine mm pistol . sudden tragedy chain events preceded victims families state lawmakers asking mcfadden released facing new sex crime charges allegedly committed behind bars serving rape sentence deaths could prevented . needs repercussions somebody needs held accountable justin webster father ivy webster fourteen reported missing among victims told associated press . let monster . . state rep. scott fetgatter republican whose district includes area south tulsa killings occurred said hopes introduce bill legislative session would halt release inmates complete sentences accused committing certain sex crimes rape child sex abuse incarcerated . end day five children murdered district alive today instead said thursday . priority keep ever happening mcfadden convicted two thousand three firstdegree rape grand larceny sentenced twenty years prison . court documents mcfadden twenty told officials strung dope vodka lost control raped female friend . also said stole eighty thousand grandfathers safe blew drugs unnecessary things . female raped seventeen tied hands feet bedpost cut shirt knife threatened use knife shut prosecutors said court filing . two thousand four two thousand ten mcfadden cited seven times various infractions prison including tobacco engaging sexual conduct another inmate according misconduct form . cited two thousand thirteen two thousand sixteen possessing cellphone . december two thousand sixteen audit electronic device allegedly using revealed sexuallythemed conversations videos pictures girl sixteen years old . investigation state department corrections led prosecutors muskogee county bring charges child pornography soliciting sexual conductcommunication minor . preliminary hearing trial rescheduled multiple times . meantime mcfadden course released state law allows commit violent felonies set free serving least eightyfive sentence . despite history misconduct considered level four inmate reserved meet program requirements maintain good personal hygiene satisfactory relationship staff others . based much prison time served well time already served county jail mcfadden eligible release october thirty 2020. release arrested following month new charges jailed five days let go twentyfive thousand bond records show . kay thompson department corrections spokeswoman said even though charged already prison yet convicted fit criteria released . according prison record earned high school equivalency diploma completed bible correspondence course called country called heaven another 13week course titled cage rage . muskogee county district attorney larry edwards immediately respond request comment told cbs affiliate kotvdt tulsa mcfaddens case beset unexpected delays years including one prosecutor leaving new job another breaking foot scheduled trial date covid pandemic causing widespread logjam legal system . mcfadden released technically completed sentence probation . still required register sex offender life checking local sheriffs office every ninety days required according department corrections . addition registered sex offenders live children long commit crimes . mcfadden living wife holly married last year okmulgee county records show . holly mcfaddens three children rylee allen seventeen michael mayo fifteen tiffany guess thirteen among victims . ivy another victim brittany brewer fifteen friends tiffany routinely slept rental property mcfaddens lived outside small town henryetta teens families said . authorities said wednesday victims well mcfadden shot head . motive immediately known . brittanys father nathan brewer previously said mcfadden seemed like nice normal person believes never released prison charged 2017. officials held liable victims deaths added . holly mcfaddens mother also said daughter know truth jesse mcfadden fooled charm . state planned introduce evidence mcfaddens prior bad acts trial set begin week . court documents state accused sending handwritten letters text messages 16yearold discussed relationship also discussed things sexual nature manipulative controlling victim . according state defense counsel planned argue mcfadden contact teen 21yearold friend instead another inmate owned phone allegedly using . state rep. justin humphrey republican chairs criminal justice corrections committee said supports change law would prevent someone already prison released charged sex crime behind bars . dropped ball asked . trial take long set bond might consider low amount someone convicted violent crime dan medlock criminal defense attorney former prosecutor muskogee county said bond amount mcfadden received standard area . humphrey said larger look states justice system warranted person accused committing sex crime already prison freed . think need kneejerk reaction six people killed including children something makes us go drawing board thing right get system holds people accountable said .\n"
          ]
        }
      ]
    },
    {
      "cell_type": "code",
      "source": [
        "noise_free_text = remove_noise_boilerplate(clean_text)\n",
        "print(noise_free_text)"
      ],
      "metadata": {
        "colab": {
          "base_uri": "https://localhost:8080/"
        },
        "id": "azO8WeN8OPXw",
        "outputId": "fd76632d-b285-4ec2-d86a-9da76ab74cb9"
      },
      "execution_count": null,
      "outputs": [
        {
          "output_type": "stream",
          "name": "stdout",
          "text": [
            "monday day scheduled appear muskogee county court start jury trial investigators looking two missing teenagers last known executed search warrant property  despite history misconduct considered level four inmate reserved meet program requirements maintain good personal hygiene satisfactory relationship staff others  according prison record earned high school equivalency diploma completed bible correspondence course called country called heaven another 13week course titled cage rage  brittanys father nathan brewer previously said mcfadden seemed like nice normal person believes never released prison charged 2017\n"
          ]
        }
      ]
    },
    {
      "cell_type": "code",
      "source": [
        "tagged_output = pos_tag(noise_free_text)\n",
        "print(tagged_output)"
      ],
      "metadata": {
        "colab": {
          "base_uri": "https://localhost:8080/"
        },
        "id": "X74ogBi7Sd8g",
        "outputId": "90587d68-ce08-468f-e6d0-1a41e7aa9508"
      },
      "execution_count": null,
      "outputs": [
        {
          "output_type": "stream",
          "name": "stdout",
          "text": [
            "monday_PROPN day_NOUN scheduled_VERB appear_VERB muskogee_PROPN county_PROPN court_PROPN start_VERB jury_NOUN trial_NOUN investigators_NOUN looking_VERB two_NUM missing_ADJ teenagers_NOUN last_ADV known_VERB executed_VERB search_NOUN warrant_NOUN property_NOUN  _SPACE despite_SCONJ history_NOUN misconduct_NOUN considered_VERB level_NOUN four_NUM inmate_NOUN reserved_VERB meet_NOUN program_NOUN requirements_NOUN maintain_VERB good_ADJ personal_ADJ hygiene_NOUN satisfactory_ADJ relationship_NOUN staff_NOUN others_NOUN  _SPACE according_VERB prison_NOUN record_NOUN earned_VERB high_ADJ school_NOUN equivalency_NOUN diploma_NOUN completed_VERB bible_ADJ correspondence_NOUN course_NOUN called_VERB country_NOUN called_VERB heaven_PROPN another_DET 13week_NOUN course_NOUN titled_VERB cage_NOUN rage_NOUN  _SPACE brittanys_PROPN father_PROPN nathan_PROPN brewer_PROPN previously_ADV said_VERB mcfadden_NOUN seemed_VERB like_ADP nice_ADJ normal_ADJ person_NOUN believes_AUX never_ADV released_VERB prison_NOUN charged_VERB 2017_NUM\n"
          ]
        }
      ]
    },
    {
      "cell_type": "code",
      "source": [
        "vectorized_output = lemmatize_and_vectorize(tagged_output)\n",
        "print(vectorized_output)"
      ],
      "metadata": {
        "colab": {
          "base_uri": "https://localhost:8080/"
        },
        "id": "t9Rzj79LSiqm",
        "outputId": "ae8b68d9-c9b9-4c06-acd4-7bd019e6ad6b"
      },
      "execution_count": null,
      "outputs": [
        {
          "output_type": "stream",
          "name": "stdout",
          "text": [
            "[[-1.1245968  -0.722436    0.8786391  ...  0.38650048 -0.03109604\n",
            "   0.9828768 ]\n",
            " [-1.658029   -1.4115163  -0.9507278  ...  0.34089205 -0.20330358\n",
            "   1.1295211 ]\n",
            " [ 2.2415364   0.5276379  -1.0947719  ...  1.8501201   0.3669272\n",
            "   0.3775242 ]\n",
            " ...\n",
            " [-1.6675895  -1.1257521   0.5898201  ... -0.3178092  -0.5571387\n",
            "   0.96703255]\n",
            " [ 0.84237754  0.66871357 -0.45621735 ...  1.1780022  -0.01667696\n",
            "   0.8144401 ]\n",
            " [-1.5609207   0.6319152   0.49138743 ... -0.5132434  -0.9589695\n",
            "   1.4755664 ]]\n"
          ]
        }
      ]
    }
  ]
}